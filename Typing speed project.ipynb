{
 "cells": [
  {
   "cell_type": "code",
   "execution_count": 44,
   "metadata": {},
   "outputs": [
    {
     "name": "stdout",
     "output_type": "stream",
     "text": [
      "Requirement already satisfied: pygame in c:\\users\\aarti\\anaconda3\\lib\\site-packages (2.0.1)\n",
      "Note: you may need to restart the kernel to use updated packages.\n"
     ]
    }
   ],
   "source": [
    "pip install pygame"
   ]
  },
  {
   "cell_type": "markdown",
   "metadata": {},
   "source": [
    "### Import the libraries"
   ]
  },
  {
   "cell_type": "code",
   "execution_count": 1,
   "metadata": {},
   "outputs": [
    {
     "name": "stdout",
     "output_type": "stream",
     "text": [
      "pygame 2.0.1 (SDL 2.0.14, Python 3.8.5)\n",
      "Hello from the pygame community. https://www.pygame.org/contribute.html\n"
     ]
    }
   ],
   "source": [
    "import pygame\n",
    "from pygame.locals import *\n",
    "import sys\n",
    "import time\n",
    "import random"
   ]
  },
  {
   "cell_type": "markdown",
   "metadata": {},
   "source": [
    "###  create the game class"
   ]
  },
  {
   "cell_type": "code",
   "execution_count": 43,
   "metadata": {},
   "outputs": [],
   "source": [
    "class Game:\n",
    "\n",
    "    def __init__(self):\n",
    "        self.w=750\n",
    "        self.h=500\n",
    "        self.reset=True\n",
    "        self.active = False\n",
    "        self.input_text=''\n",
    "        self.word = ''\n",
    "        self.time_start = 0\n",
    "        self.total_time = 0\n",
    "        self.accuracy = '0%'\n",
    "        self.results = 'Time:0 Accuracy:0 % Wpm:0 '\n",
    "        self.wpm = 0\n",
    "        self.end = False\n",
    "        self.HEAD_C = (255,213,102)\n",
    "        self.TEXT_C = (240,240,240)\n",
    "        self.RESULT_C = (255,70,70)\n",
    "\n",
    "\n",
    "        pygame.init()\n",
    "        self.open_img = pygame.image.load('type-speed-open.png')\n",
    "        self.open_img = pygame.transform.scale(self.open_img, (self.w,self.h))\n",
    "\n",
    "\n",
    "        self.bg = pygame.image.load('background.jpg')\n",
    "        self.bg = pygame.transform.scale(self.bg, (500,750))\n",
    "\n",
    "        self.screen = pygame.display.set_mode((self.w,self.h))\n",
    "        pygame.display.set_caption('Type Speed test')"
   ]
  },
  {
   "cell_type": "markdown",
   "metadata": {},
   "source": [
    "### draw_text()method\n",
    "\n",
    "The draw_text() method of Game class is a helper function that will draw the text on the screen. The argument it takes is the screen, the message we want to draw, the y coordinate of the screen to position our text, the size of the font and color of the font. We will draw everything in the center of the screen. After drawing anything on the screen, pygame requires you to update the screen."
   ]
  },
  {
   "cell_type": "code",
   "execution_count": 44,
   "metadata": {},
   "outputs": [],
   "source": [
    "def draw_text(self, screen, msg, y ,fsize, color):\n",
    "    font = pygame.font.Font(None, fsize)\n",
    "    text = font.render(msg, 1,color)\n",
    "    text_rect = text.get_rect(center=(self.w/2, y))\n",
    "    screen.blit(text, text_rect)\n",
    "    pygame.display.update()"
   ]
  },
  {
   "cell_type": "markdown",
   "metadata": {},
   "source": [
    "### get_sentence() method"
   ]
  },
  {
   "cell_type": "markdown",
   "metadata": {},
   "source": [
    "Remember that we have a list of sentences in our sentences.txt file? The get_sentence() method will open up the file and return a random sentence from the list. We split the whole string with a newline character."
   ]
  },
  {
   "cell_type": "code",
   "execution_count": 45,
   "metadata": {},
   "outputs": [],
   "source": [
    "def get_sentence(self):\n",
    "    f = open('sentences.txt').read()\n",
    "    sentences = f.split('\\n')\n",
    "    sentence = random.choice(sentences)\n",
    "    return sentence"
   ]
  },
  {
   "cell_type": "markdown",
   "metadata": {},
   "source": [
    "#### show_results() method\n",
    "\n",
    "The show_results() method is where we calculate the speed of the user’s typing. The time starts when the user clicks on the input box and when the user hits return key “Enter” then we perform the difference and calculate time in seconds.\n",
    "\n",
    "To calculate accuracy, we did a little bit of math. We counted the correct typed characters by comparing input text with the display text which the user had to type.\n",
    "\n",
    "The formula for accuracy is:\n",
    "\n",
    "(correct characters)x100/ (total characters in sentence)\n",
    "\n",
    "The WPM is the words per minute. A typical word consists of around 5 characters, so we calculate the words per minute by dividing the total number of words with five and then the result is again divided that with the total time it took in minutes. Since our total time was in seconds, we had to convert it into minutes by dividing total time with 60.\n",
    "\n",
    "At last, we have drawn the typing icon image at the bottom of the screen which we will use as a reset button. When the user clicks it, our game would reset. We will see the reset_game() method later in this article."
   ]
  },
  {
   "cell_type": "code",
   "execution_count": 46,
   "metadata": {},
   "outputs": [],
   "source": [
    "def show_results(self, screen):\n",
    "    if(not self.end):\n",
    "        #Calculate time\n",
    "        self.total_time = time.time() - self.time_start\n",
    "\n",
    "        #Calculate accuracy\n",
    "        count = 0\n",
    "        for i,c in enumerate(self.word):\n",
    "            try:\n",
    "                if self.input_text[i] == c:\n",
    "                    count += 1\n",
    "            except:\n",
    "                pass\n",
    "        self.accuracy = count/len(self.word)*100\n",
    "\n",
    "        #Calculate words per minute\n",
    "        self.wpm = len(self.input_text)*60/(5*self.total_time)\n",
    "        self.end = True\n",
    "        print(self.total_time)\n",
    "\n",
    "        self.results = 'Time:'+str(round(self.total_time)) +\" secs Accuracy:\"+ str(round(self.accuracy)) + \"%\" + ' Wpm: ' + str(round(self.wpm))\n",
    "\n",
    "        # draw icon image\n",
    "        self.time_img = pygame.image.load('icon.png')\n",
    "        self.time_img = pygame.transform.scale(self.time_img, (150,150))\n",
    "        #screen.blit(self.time_img, (80,320))\n",
    "        screen.blit(self.time_img, (self.w/2-75,self.h-140))\n",
    "        self.draw_text(screen,\"Reset\", self.h - 70, 26, (100,100,100))\n",
    "\n",
    "        print(self.results)\n",
    "        pygame.display.update()"
   ]
  },
  {
   "cell_type": "markdown",
   "metadata": {},
   "source": [
    "### run() method"
   ]
  },
  {
   "cell_type": "markdown",
   "metadata": {},
   "source": [
    "We call the reset_game() method at the starting of this method which resets all the variables. Next, we run an infinite loop which will capture all the mouse and keyboard events. Then, we draw the heading and the input box on the screen.\n",
    "\n",
    "We then use another loop that will look for the mouse and keyboard events. When the mouse button is pressed, we check the position of the mouse if it is on the input box then we start the time and set the active to True. If it is on the reset button, then we reset the game.\n",
    "\n",
    "When the active is True and typing has not ended then we look for keyboard events. If the user presses any key then we need to update the message on our input box. The enter key will end typing and we will calculate the scores to display it. Another event of a backspace is used to trim the input text by removing the last character."
   ]
  },
  {
   "cell_type": "code",
   "execution_count": 51,
   "metadata": {},
   "outputs": [],
   "source": [
    "def run(self):\n",
    "    self.reset_game()\n",
    "\n",
    "\n",
    "    self.running=True\n",
    "    while(self.running):\n",
    "        clock = pygame.time.Clock()\n",
    "        self.screen.fill((0,0,0), (50,250,650,50))\n",
    "        pygame.draw.rect(self.screen,self.HEAD_C, (50,250,650,50), 2)\n",
    "        # update the text of user input\n",
    "        self.draw_text(self.screen, self.input_text, 274, 26,(250,250,250))\n",
    "        pygame.display.update()\n",
    "        for event in pygame.event.get():\n",
    "            if event.type == QUIT:\n",
    "                self.running = False\n",
    "                sys.exit()\n",
    "            elif event.type == pygame.MOUSEBUTTONUP:\n",
    "                x,y = pygame.mouse.get_pos()\n",
    "                # position of input box\n",
    "                if(x>=50 and x<=650 and y>=250 and y<=300):\n",
    "                    self.active = True\n",
    "                    self.input_text = ''\n",
    "                    self.time_start = time.time()\n",
    "                 # position of reset box\n",
    "                \n",
    "                if(x>=310 and x<=510 and y>=390 and self.end):\n",
    "                    self.reset_game()\n",
    "                    x,y = pygame.mouse.get_pos()\n",
    "\n",
    "\n",
    "            elif event.type == pygame.KEYDOWN:\n",
    "                if self.active and not self.end:\n",
    "                    if event.key == pygame.K_RETURN:\n",
    "                        print(self.input_text)\n",
    "                        self.show_results(self.screen)\n",
    "                        print(self.results)\n",
    "                        self.draw_text(self.screen, self.results,350, 28, self.RESULT_C)\n",
    "                        self.end = True\n",
    "\n",
    "                    elif event.key == pygame.K_BACKSPACE:\n",
    "                        self.input_text = self.input_text[:-1]\n",
    "                    else:\n",
    "                        try:\n",
    "                            self.input_text += event.unicode\n",
    "                        except:\n",
    "                            pass\n",
    "\n",
    "        pygame.display.update()\n",
    "\n",
    "\n",
    "    clock.tick(60)"
   ]
  },
  {
   "cell_type": "markdown",
   "metadata": {},
   "source": [
    "### reset_game() method\n",
    "The reset_game() method resets all variables so that we can start testing our typing speed again. We also select a random sentence by calling the get_sentence() method. In the end, we have closed the class definition and created the object of Game class to run the program."
   ]
  },
  {
   "cell_type": "code",
   "execution_count": 56,
   "metadata": {},
   "outputs": [
    {
     "ename": "AttributeError",
     "evalue": "'Game' object has no attribute 'run'",
     "output_type": "error",
     "traceback": [
      "\u001b[1;31m---------------------------------------------------------------------------\u001b[0m",
      "\u001b[1;31mAttributeError\u001b[0m                            Traceback (most recent call last)",
      "\u001b[1;32m<ipython-input-56-78776baecc10>\u001b[0m in \u001b[0;36m<module>\u001b[1;34m\u001b[0m\n\u001b[0;32m     32\u001b[0m \u001b[1;33m\u001b[0m\u001b[0m\n\u001b[0;32m     33\u001b[0m \u001b[1;33m\u001b[0m\u001b[0m\n\u001b[1;32m---> 34\u001b[1;33m \u001b[0mGame\u001b[0m\u001b[1;33m(\u001b[0m\u001b[1;33m)\u001b[0m\u001b[1;33m.\u001b[0m\u001b[0mrun\u001b[0m\u001b[1;33m(\u001b[0m\u001b[1;33m)\u001b[0m\u001b[1;33m\u001b[0m\u001b[1;33m\u001b[0m\u001b[0m\n\u001b[0m",
      "\u001b[1;31mAttributeError\u001b[0m: 'Game' object has no attribute 'run'"
     ]
    }
   ],
   "source": [
    "    def reset_game(self):\n",
    "        self.screen.blit(self.open_img, (0,0))\n",
    "\n",
    "        pygame.display.update()\n",
    "        time.sleep(1)\n",
    "\n",
    "        self.reset=False\n",
    "        self.end = False\n",
    "\n",
    "        self.input_text=''\n",
    "        self.word = ''\n",
    "        self.time_start = 0\n",
    "        self.total_time = 0\n",
    "        self.wpm = 0\n",
    "\n",
    "        # Get random sentence\n",
    "        self.word = self.get_sentence()\n",
    "        if (not self.word): self.reset_game()\n",
    "        #drawing heading\n",
    "        self.screen.fill((0,0,0))\n",
    "        self.screen.blit(self.bg,(0,0))\n",
    "        msg = \"Typing Speed Test\"\n",
    "        self.draw_text(self.screen, msg,80, 80,self.HEAD_C)\n",
    "        # draw the rectangle for input box\n",
    "        pygame.draw.rect(self.screen,(255,192,25), (50,250,650,50), 2)\n",
    "\n",
    "        # draw the sentence string\n",
    "        self.draw_text(self.screen, self.word,200, 28,self.TEXT_C)\n",
    "\n",
    "        pygame.display.update()\n",
    "\n",
    "\n",
    "\n",
    "Game().run()"
   ]
  },
  {
   "cell_type": "code",
   "execution_count": 55,
   "metadata": {},
   "outputs": [],
   "source": [
    "class OAndX:\n",
    "    def __init__(self):\n",
    "        # Initialize Pygame\n",
    "        pygame.init()\n",
    "        # Create the clock to manage the game loop\n",
    "        self.clock = time.Clock()\n",
    "        display.set_caption(\"Noughts and Crosses\")\n",
    "        # Create a windows with a resolution of 640 x 480\n",
    "        self.displaySize=(640,480)\n",
    "        self.screen=display.set_mode(self.displaySize)\n",
    "        # will either be 0 or X\n",
    "        self.player=\"0\"\n",
    "\n",
    "    def run(self):\n",
    "        while True:\n",
    "            # Our Game loop,Handle events\n",
    "            self.handleEvents()\n",
    "            # Draw our background and grid\n",
    "            self.background.draw(self. screen)\n",
    "            self.grid.draw(self.screen)\n",
    "            # Update our display\n",
    "            display.update()\n",
    "            # Limit the game to 10 fps\n",
    "            self.clock.tick(10)"
   ]
  },
  {
   "cell_type": "code",
   "execution_count": 57,
   "metadata": {},
   "outputs": [
    {
     "ename": "AttributeError",
     "evalue": "'Game' object has no attribute 'run'",
     "output_type": "error",
     "traceback": [
      "\u001b[1;31m---------------------------------------------------------------------------\u001b[0m",
      "\u001b[1;31mAttributeError\u001b[0m                            Traceback (most recent call last)",
      "\u001b[1;32m<ipython-input-57-78776baecc10>\u001b[0m in \u001b[0;36m<module>\u001b[1;34m\u001b[0m\n\u001b[0;32m     32\u001b[0m \u001b[1;33m\u001b[0m\u001b[0m\n\u001b[0;32m     33\u001b[0m \u001b[1;33m\u001b[0m\u001b[0m\n\u001b[1;32m---> 34\u001b[1;33m \u001b[0mGame\u001b[0m\u001b[1;33m(\u001b[0m\u001b[1;33m)\u001b[0m\u001b[1;33m.\u001b[0m\u001b[0mrun\u001b[0m\u001b[1;33m(\u001b[0m\u001b[1;33m)\u001b[0m\u001b[1;33m\u001b[0m\u001b[1;33m\u001b[0m\u001b[0m\n\u001b[0m",
      "\u001b[1;31mAttributeError\u001b[0m: 'Game' object has no attribute 'run'"
     ]
    }
   ],
   "source": [
    "    def reset_game(self):\n",
    "        self.screen.blit(self.open_img, (0,0))\n",
    "\n",
    "        pygame.display.update()\n",
    "        time.sleep(1)\n",
    "\n",
    "        self.reset=False\n",
    "        self.end = False\n",
    "\n",
    "        self.input_text=''\n",
    "        self.word = ''\n",
    "        self.time_start = 0\n",
    "        self.total_time = 0\n",
    "        self.wpm = 0\n",
    "\n",
    "        # Get random sentence\n",
    "        self.word = self.get_sentence()\n",
    "        if (not self.word): self.reset_game()\n",
    "        #drawing heading\n",
    "        self.screen.fill((0,0,0))\n",
    "        self.screen.blit(self.bg,(0,0))\n",
    "        msg = \"Typing Speed Test\"\n",
    "        self.draw_text(self.screen, msg,80, 80,self.HEAD_C)\n",
    "        # draw the rectangle for input box\n",
    "        pygame.draw.rect(self.screen,(255,192,25), (50,250,650,50), 2)\n",
    "\n",
    "        # draw the sentence string\n",
    "        self.draw_text(self.screen, self.word,200, 28,self.TEXT_C)\n",
    "\n",
    "        pygame.display.update()\n",
    "\n",
    "\n",
    "\n",
    "Game().run()"
   ]
  },
  {
   "cell_type": "code",
   "execution_count": null,
   "metadata": {},
   "outputs": [],
   "source": [
    "s"
   ]
  }
 ],
 "metadata": {
  "kernelspec": {
   "display_name": "Python 3",
   "language": "python",
   "name": "python3"
  },
  "language_info": {
   "codemirror_mode": {
    "name": "ipython",
    "version": 3
   },
   "file_extension": ".py",
   "mimetype": "text/x-python",
   "name": "python",
   "nbconvert_exporter": "python",
   "pygments_lexer": "ipython3",
   "version": "3.8.5"
  }
 },
 "nbformat": 4,
 "nbformat_minor": 4
}
